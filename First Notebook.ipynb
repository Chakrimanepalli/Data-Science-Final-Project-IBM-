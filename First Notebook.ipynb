{
 "cells": [
  {
   "cell_type": "markdown",
   "metadata": {
    "collapsed": true,
    "jupyter": {
     "outputs_hidden": true
    }
   },
   "source": [
    "# Data Science Final Project\n"
   ]
  },
  {
   "cell_type": "markdown",
   "metadata": {},
   "source": [
    "\n",
    "This notebook is created as a final project for the Data Science course. It covers various exercises demonstrating fundamental concepts and tools used in Data Science."
   ]
  },
  {
   "cell_type": "markdown",
   "metadata": {},
   "source": [
    "## Introduction\r\n",
    "This notebook is created as a final project for the Data Science course. It covers various exercises demonstrating fundamental concepts and tools used in Data Science.\r\n"
   ]
  },
  {
   "cell_type": "markdown",
   "metadata": {},
   "source": [
    "## Data Science Languages\r\n",
    "Here are some of the most commonly used languages in Data Science:\r\n",
    "- Python\r\n",
    "- R\r\n",
    "- SQL\r\n",
    "- Julia\r\n",
    "- Scala\r\n"
   ]
  },
  {
   "cell_type": "markdown",
   "metadata": {},
   "source": [
    "## Data Science Libraries\n",
    "Some popular libraries used in Data Science include:\n",
    "- **Python**:\n",
    "  - NumPy\n",
    "  - Pandas\n",
    "  - Matplotlib\n",
    "  - Scikit-learn\n",
    "  - TensorFlow\n",
    "- **R**:\n",
    "  - ggplot2\n",
    "  - dplyr\n",
    "  - caret\n",
    "  - randomForest\n",
    "  - tidyr\n"
   ]
  },
  {
   "cell_type": "markdown",
   "metadata": {},
   "source": [
    "## Data Science Tools\n",
    "Here is a table of some commonly used Data Science tools:\n",
    "\n",
    "| Tool           | Description                                         |\n",
    "|----------------|-----------------------------------------------------|\n",
    "| Jupyter        | An open-source web application for creating and sharing documents with live code, equations, visualizations, and narrative text. |\n",
    "| RStudio        | An integrated development environment for R.        |\n",
    "| Apache Spark   | A unified analytics engine for big data processing, with built-in modules for streaming, SQL, machine learning, and graph processing. |\n",
    "| TensorFlow     | An end-to-end open-source platform for machine learning. |\n",
    "| Tableau        | A powerful data visualization tool used for converting raw data into an understandable format. |\n"
   ]
  },
  {
   "cell_type": "markdown",
   "metadata": {},
   "source": [
    "## Arithmetic Expression Examples\n",
    "\n",
    "Below are examples of basic arithmetic operations, such as addition, subtraction, multiplication, and division.\n"
   ]
  },
  {
   "cell_type": "code",
   "execution_count": 12,
   "metadata": {},
   "outputs": [
    {
     "name": "stdout",
     "output_type": "stream",
     "text": [
      "Multiplication of 5 and 4 is: 20\n",
      "Addition of 5 and 4 is: 9\n"
     ]
    }
   ],
   "source": [
    "# Multiply and add numbers\n",
    "a = 5\n",
    "b = 4\n",
    "c = a * b\n",
    "d = a + b\n",
    "print(\"Multiplication of 5 and 4 is:\", c)\n",
    "print(\"Addition of 5 and 4 is:\", d)\n"
   ]
  },
  {
   "cell_type": "code",
   "execution_count": 13,
   "metadata": {},
   "outputs": [
    {
     "name": "stdout",
     "output_type": "stream",
     "text": [
      "120 minutes is equal to 2.0 hours.\n"
     ]
    }
   ],
   "source": [
    "# Convert minutes to hours\n",
    "minutes = 120\n",
    "hours = minutes / 60\n",
    "print(f\"{minutes} minutes is equal to {hours} hours.\")\n"
   ]
  },
  {
   "cell_type": "markdown",
   "metadata": {},
   "source": [
    "## Objectives\n",
    "The objectives of this notebook are:\n",
    "- To provide an overview of commonly used languages in Data Science.\n",
    "- To list popular libraries used in Data Science.\n",
    "- To demonstrate the use of markdown cells for documentation.\n",
    "- To perform basic arithmetic operations using code cells.\n",
    "- To convert units using code cells.\n",
    "- To share the notebook on GitHub.\n"
   ]
  },
  {
   "cell_type": "markdown",
   "metadata": {},
   "source": [
    "## Author\n",
    "**Satyadeva Praveen Chakravarthi Manepalli**  \n",
    "Mechanical Engineering Student\n",
    "- I am interested in data science because I want to develop data analysis and data visualization skills as well as interpret data to gain various insights and predict future decisions"
   ]
  },
  {
   "cell_type": "markdown",
   "metadata": {},
   "source": [
    "**Hyperlink:**\n",
    "\n",
    "https://en.wikipedia.org/wiki/Data_science\n",
    "\n",
    "**Image:**\n",
    "\n",
    "![alt text](https://github.com/adam-p/markdown-here/raw/master/src/common/images/icon48.png)"
   ]
  },
  {
   "cell_type": "code",
   "execution_count": null,
   "metadata": {},
   "outputs": [],
   "source": []
  },
  {
   "cell_type": "code",
   "execution_count": null,
   "metadata": {},
   "outputs": [],
   "source": []
  }
 ],
 "metadata": {
  "kernelspec": {
   "display_name": "Python 3 (ipykernel)",
   "language": "python",
   "name": "python3"
  },
  "language_info": {
   "codemirror_mode": {
    "name": "ipython",
    "version": 3
   },
   "file_extension": ".py",
   "mimetype": "text/x-python",
   "name": "python",
   "nbconvert_exporter": "python",
   "pygments_lexer": "ipython3",
   "version": "3.11.7"
  }
 },
 "nbformat": 4,
 "nbformat_minor": 4
}
